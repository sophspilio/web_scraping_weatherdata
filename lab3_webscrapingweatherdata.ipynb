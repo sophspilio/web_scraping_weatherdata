{
  "nbformat": 4,
  "nbformat_minor": 0,
  "metadata": {
    "colab": {
      "name": "lab3_webscrapingweatherdata.ipynb",
      "provenance": [],
      "authorship_tag": "ABX9TyPFN6rHceBhHPi8PR2xz8BO",
      "include_colab_link": true
    },
    "kernelspec": {
      "name": "python3",
      "display_name": "Python 3"
    }
  },
  "cells": [
    {
      "cell_type": "markdown",
      "metadata": {
        "id": "view-in-github",
        "colab_type": "text"
      },
      "source": [
        "<a href=\"https://colab.research.google.com/github/IDCE-MSGIS/lab-3-web-scrapping-weather-data-sophspilio/blob/master/lab3_webscrapingweatherdata.ipynb\" target=\"_parent\"><img src=\"https://colab.research.google.com/assets/colab-badge.svg\" alt=\"Open In Colab\"/></a>"
      ]
    },
    {
      "cell_type": "code",
      "metadata": {
        "id": "Rl4y2m4-rqpu",
        "colab_type": "code",
        "colab": {
          "base_uri": "https://localhost:8080/",
          "height": 595
        },
        "outputId": "e601373d-5852-4648-8ebc-81f231f9363b"
      },
      "source": [
        "'''\n",
        "Sophie Spiliotopoulos\n",
        "Created: Sept. 11, 2020\n",
        "Python 3.6.7\n",
        "Introduction to Web Scraping: This lab scrapes the National Weather Service's website to find current weather\n",
        "for a given location (lat/long)\n",
        "'''\n",
        "\n",
        "import requests\n",
        "from bs4 import BeautifulSoup\n",
        "\n",
        "# Provide the latitude and longitude for the location you would like to check the weather for\n",
        "# Lat/lon in decimal degrees provided for Worcester, MA\n",
        "lat = '38.8816'\n",
        "lon = '-77.0910'\n",
        "\n",
        "# Create url for the requested location through string concatenation\n",
        "url = 'https://forecast.weather.gov/MapClick.php?lat='+lat+\"&lon=\"+lon\n",
        "# Check if the URL exists\n",
        "# print url\n",
        "\n",
        "# Send request to retrieve the web-page using the get() function from the requests library\n",
        "# The page variable stores the response from the web-page\n",
        "page = requests.get(url)\n",
        "\n",
        "# Create a BeautifulSoup object with the response from the URL\n",
        "# Access contents of the web-page using .content\n",
        "# html_parser is used since our page is in HTML format\n",
        "soup=BeautifulSoup(page.content,\"html.parser\")\n",
        "\n",
        "# Locate element on page to be scraped\n",
        "# This element is located within an id tag called current_conditions-summary\n",
        "# find() locates the element in the BeautifulSoup object\n",
        "cur_weather_conditions = soup.find(id=\"current_conditions-summary\")\n",
        "\n",
        "# Extract text from the selected BeautifulSoup object using .text\n",
        "cur_weather_conditions = cur_weather_conditions.text\n",
        "\n",
        "#Extract detailed weather coniditons (Humidity, Dew Point, Wind Speed, Barometer, and Last Update)\n",
        "cur_weather_detail = soup.find(id=\"current_conditions_detail\")\n",
        "\n",
        "#Extract text from the selected id using .text\n",
        "cur_weather_detail = cur_weather_detail.text\n",
        "\n",
        "\n",
        "# Final Output\n",
        "# Return scraped information\n",
        "print('The Current Weather Conditions at '+ lat +  \", \" + lon + \" is:\" + cur_weather_conditions + cur_weather_detail)"
      ],
      "execution_count": 14,
      "outputs": [
        {
          "output_type": "stream",
          "text": [
            "The Current Weather Conditions at 38.8816, -77.0910 is:\n",
            "\n",
            "Overcast\n",
            "80°F\n",
            "27°C\n",
            "\n",
            "\n",
            "\n",
            "Humidity\n",
            "79%\n",
            "\n",
            "\n",
            "Wind Speed\n",
            "N 12 mph\n",
            "\n",
            "\n",
            "Barometer\n",
            "30.16 in (1021.2 mb)\n",
            "\n",
            "\n",
            "Dewpoint\n",
            "73°F (23°C)\n",
            "\n",
            "\n",
            "Visibility\n",
            "10.00 mi\n",
            "\n",
            "Heat Index84°F (29°C) \n",
            "Last update\n",
            "\n",
            "                11 Sep 10:52 am EDT            \n",
            "\n",
            "\n",
            "\n"
          ],
          "name": "stdout"
        }
      ]
    }
  ]
}